{
  "nbformat": 4,
  "nbformat_minor": 0,
  "metadata": {
    "colab": {
      "name": "MLDL_Python Assignment 4.ipynb",
      "provenance": [],
      "authorship_tag": "ABX9TyM0nhJEUBOD6RrTO3LTSBRK",
      "include_colab_link": true
    },
    "kernelspec": {
      "name": "python3",
      "display_name": "Python 3"
    },
    "language_info": {
      "name": "python"
    }
  },
  "cells": [
    {
      "cell_type": "markdown",
      "metadata": {
        "id": "view-in-github",
        "colab_type": "text"
      },
      "source": [
        "<a href=\"https://colab.research.google.com/github/Poomanirajan/ineuron-MLDL/blob/main/MLDL_Python_Assignment_4.ipynb\" target=\"_parent\"><img src=\"https://colab.research.google.com/assets/colab-badge.svg\" alt=\"Open In Colab\"/></a>"
      ]
    },
    {
      "cell_type": "markdown",
      "source": [
        "1.1 Write a Python Program(with class concepts) to find the area of the triangle using the below formula.\n",
        "area = (s*(s-a)*(s-b)*(s-c)) ** 0.5\n",
        "Function to take the length of the sides of triangle from user should be defined in the parent class and function to calculate the area should be defined in subclass."
      ],
      "metadata": {
        "id": "iWWno82IN5wg"
      }
    },
    {
      "cell_type": "code",
      "execution_count": 2,
      "metadata": {
        "colab": {
          "base_uri": "https://localhost:8080/"
        },
        "id": "XQLUm27VN1hK",
        "outputId": "ce4cdb2e-ed9e-4895-c711-9514642e2f31"
      },
      "outputs": [
        {
          "output_type": "stream",
          "name": "stdout",
          "text": [
            "Area of triangle : 6.0\n"
          ]
        }
      ],
      "source": [
        "class sides:\n",
        "    def __init__(self,s1, s2, s3):\n",
        "        self.s1 = s1\n",
        "        self.s2 = s2\n",
        "        self.s3 = s3\n",
        "class A(sides):\n",
        "    def area(self):\n",
        "        s = (self.s1 + self.s2 + self.s3)/2\n",
        "        return (s*(s-self.s1)*(s-self.s2)*(s-self.s3)) ** 0.5\n",
        "obj = A(3,4,5)\n",
        "print(\"Area of triangle : {}\".format(obj.area()))"
      ]
    },
    {
      "cell_type": "markdown",
      "source": [
        "1.2 Write a function filter_long_words() that takes a list of words and an integer n and returns\n",
        "the list of words that are longer than n."
      ],
      "metadata": {
        "id": "As_mJODePYMr"
      }
    },
    {
      "cell_type": "code",
      "source": [
        "def filter_long_words(n, str):  \n",
        "    word_len = []  \n",
        "    txt = str.split(\" \")  \n",
        "    for x in txt:  \n",
        "        if len(x) > n:  \n",
        "            word_len.append(x)  \n",
        "    return word_len   \n",
        "print(filter_long_words(3, \"Pen is mightier than sword\"))  "
      ],
      "metadata": {
        "colab": {
          "base_uri": "https://localhost:8080/"
        },
        "id": "Bae3smO8P0u4",
        "outputId": "e841d78b-2a5a-4bd6-e26b-1a77a2372e5e"
      },
      "execution_count": 3,
      "outputs": [
        {
          "output_type": "stream",
          "name": "stdout",
          "text": [
            "['mightier', 'than', 'sword']\n"
          ]
        }
      ]
    },
    {
      "cell_type": "markdown",
      "source": [
        "2.1 Write a Python program using function concept that maps list of words into a list of integers\n",
        "representing the lengths of the corresponding words.\n",
        "Hint: If a list [ ab,cde,erty] is passed on to the python function output should come as [2,3,4]\n",
        "Here 2,3 and 4 are the lengths of the words in the list."
      ],
      "metadata": {
        "id": "nlBsqHLEP1jg"
      }
    },
    {
      "cell_type": "code",
      "source": [
        "def wtl(List):\n",
        "  return list(map(len,List))\n",
        "word_list=list(input(\"Enter words: \").split(\",\"))\n",
        "List=[i.strip() for i in word_list]\n",
        "words_lengths=wtl(List)\n",
        "print(\"Length of words are: \",words_lengths)"
      ],
      "metadata": {
        "colab": {
          "base_uri": "https://localhost:8080/"
        },
        "id": "V4kgJax0P6Cy",
        "outputId": "b527c659-1528-43e4-cbd5-59621a97bbeb"
      },
      "execution_count": 5,
      "outputs": [
        {
          "output_type": "stream",
          "name": "stdout",
          "text": [
            "Enter words: ab,cde,fghi\n",
            "Length of words are:  [2, 3, 4]\n"
          ]
        }
      ]
    },
    {
      "cell_type": "markdown",
      "source": [
        "2.2 Write a Python function which takes a character (i.e. a string of length 1) and returns True if\n",
        "it is a vowel, False otherwise."
      ],
      "metadata": {
        "id": "Wa809iGnP6_A"
      }
    },
    {
      "cell_type": "code",
      "source": [
        "def isvowel(char):\n",
        "    return char.lower() in 'aeiou'\n",
        "letter=input(\"Enter character: \")\n",
        "isvowel(letter)"
      ],
      "metadata": {
        "colab": {
          "base_uri": "https://localhost:8080/"
        },
        "id": "zX7ePTX7P9Fw",
        "outputId": "eaf95d53-05b3-47cb-b6c0-7fd772a0697d"
      },
      "execution_count": 7,
      "outputs": [
        {
          "name": "stdout",
          "output_type": "stream",
          "text": [
            "Enter character: w\n"
          ]
        },
        {
          "output_type": "execute_result",
          "data": {
            "text/plain": [
              "False"
            ]
          },
          "metadata": {},
          "execution_count": 7
        }
      ]
    }
  ]
}