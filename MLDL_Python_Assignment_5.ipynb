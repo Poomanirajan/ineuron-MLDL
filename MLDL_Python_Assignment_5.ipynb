{
  "nbformat": 4,
  "nbformat_minor": 0,
  "metadata": {
    "colab": {
      "name": "MLDL_Python Assignment 5.ipynb",
      "provenance": [],
      "authorship_tag": "ABX9TyM640hI8tCxr9Jee5fAUosO",
      "include_colab_link": true
    },
    "kernelspec": {
      "name": "python3",
      "display_name": "Python 3"
    },
    "language_info": {
      "name": "python"
    }
  },
  "cells": [
    {
      "cell_type": "markdown",
      "metadata": {
        "id": "view-in-github",
        "colab_type": "text"
      },
      "source": [
        "<a href=\"https://colab.research.google.com/github/Poomanirajan/ineuron-MLDL/blob/main/MLDL_Python_Assignment_5.ipynb\" target=\"_parent\"><img src=\"https://colab.research.google.com/assets/colab-badge.svg\" alt=\"Open In Colab\"/></a>"
      ]
    },
    {
      "cell_type": "markdown",
      "source": [
        "1. Write a function to compute 5/0 and use try/except to catch the exceptions."
      ],
      "metadata": {
        "id": "KuP2Vb4UirNR"
      }
    },
    {
      "cell_type": "code",
      "execution_count": 4,
      "metadata": {
        "colab": {
          "base_uri": "https://localhost:8080/"
        },
        "id": "BRlnkVMGils6",
        "outputId": "8ba9b71c-6df9-4bef-c036-641af4f459a9"
      },
      "outputs": [
        {
          "output_type": "stream",
          "name": "stdout",
          "text": [
            "division by zero is not possible!\n"
          ]
        }
      ],
      "source": [
        "def throws():\n",
        "    return 5/0\n",
        "try:\n",
        "    throws()\n",
        "except ZeroDivisionError:\n",
        "    print (\"division by zero is not possible!\")"
      ]
    },
    {
      "cell_type": "markdown",
      "source": [
        "2. Implement a Python program to generate all sentences where \n",
        "subject is in [\"Americans\", \"Indians\"] and \n",
        "verb is in [\"Play\", \"watch\"] and \n",
        "the object is in [\"Baseball\",\"cricket\"].\n",
        "Hint: Subject,Verb and Object should be declared in the program as shown below.\n",
        "\n",
        "subjects=[\"Americans \",\"Indians\"]\n",
        "\n",
        "verbs=[\"play\",\"watch\"]\n",
        "\n",
        "objects=[\"Baseball\",\"Cricket\"]\n",
        "\n",
        "Output should come as below:\n",
        "\n",
        "Americans play Baseball.\n",
        "\n",
        "Americans play Cricket.\n",
        "\n",
        "Americans watch Baseball.\n",
        "\n",
        "Americans watch Cricket.\n",
        "\n",
        "Indians play Baseball.\n",
        "\n",
        "Indians play Cricket.\n",
        "\n",
        "Indians watch Baseball.\n",
        "\n",
        "Indians watch Cricket."
      ],
      "metadata": {
        "id": "YLIwLheGjmYC"
      }
    },
    {
      "cell_type": "code",
      "source": [
        "Subject=['Americans', 'Indians']\n",
        "Verb=['play', 'watch']\n",
        "Object=['Baseball', 'Cricket']\n",
        "All_sentences=[(sub +\" \"+ ver +\" \" + obj) for sub in Subject for ver in Verb for obj in Object]\n",
        "for sentence in All_sentences:\n",
        "  print(sentence)"
      ],
      "metadata": {
        "colab": {
          "base_uri": "https://localhost:8080/"
        },
        "id": "hLHcc3qIjvO5",
        "outputId": "3d73a256-1ba9-4ed8-a290-74a251b5890d"
      },
      "execution_count": 7,
      "outputs": [
        {
          "output_type": "stream",
          "name": "stdout",
          "text": [
            "Americans play Baseball\n",
            "Americans play Cricket\n",
            "Americans watch Baseball\n",
            "Americans watch Cricket\n",
            "Indians play Baseball\n",
            "Indians play Cricket\n",
            "Indians watch Baseball\n",
            "Indians watch Cricket\n"
          ]
        }
      ]
    }
  ]
}