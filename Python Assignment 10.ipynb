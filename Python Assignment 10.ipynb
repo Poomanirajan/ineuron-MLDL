{
 "cells": [
  {
   "cell_type": "markdown",
   "metadata": {},
   "source": [
    "1. Write a Python program to find sum of elements in list?"
   ]
  },
  {
   "cell_type": "code",
   "execution_count": 14,
   "metadata": {},
   "outputs": [
    {
     "name": "stdout",
     "output_type": "stream",
     "text": [
      "Sum: 15\n"
     ]
    }
   ],
   "source": [
    "def calculate_sum(lst):\n",
    "    # Initialize a variable to store the sum\n",
    "    total = 0\n",
    "    \n",
    "    # Iterate over the elements in the list\n",
    "    for element in lst:\n",
    "        # Add each element to the total\n",
    "        total += element\n",
    "    \n",
    "    return total\n",
    "\n",
    "\n",
    "# Test the function\n",
    "numbers = [1, 2, 3, 4, 5]\n",
    "result = calculate_sum(numbers)\n",
    "print(\"Sum:\", result)\n"
   ]
  },
  {
   "cell_type": "markdown",
   "metadata": {},
   "source": [
    "2. Write a Python program to Multiply all numbers in the list?"
   ]
  },
  {
   "cell_type": "code",
   "execution_count": 15,
   "metadata": {},
   "outputs": [
    {
     "name": "stdout",
     "output_type": "stream",
     "text": [
      "Product: 120\n"
     ]
    }
   ],
   "source": [
    "def multiply_list(lst):\n",
    "    # Initialize a variable to store the product\n",
    "    product = 1\n",
    "    \n",
    "    # Iterate over the elements in the list\n",
    "    for element in lst:\n",
    "        # Multiply each element to the product\n",
    "        product *= element\n",
    "    \n",
    "    return product\n",
    "\n",
    "\n",
    "# Test the function\n",
    "numbers = [2, 3, 4, 5]\n",
    "result = multiply_list(numbers)\n",
    "print(\"Product:\", result)\n"
   ]
  },
  {
   "cell_type": "markdown",
   "metadata": {},
   "source": [
    "3. Write a Python program to find smallest number in a list?"
   ]
  },
  {
   "cell_type": "code",
   "execution_count": 16,
   "metadata": {},
   "outputs": [
    {
     "name": "stdout",
     "output_type": "stream",
     "text": [
      "Smallest number: 1\n"
     ]
    }
   ],
   "source": [
    "def find_smallest_number(lst):\n",
    "    # Check if the list is empty\n",
    "    if not lst:\n",
    "        return None\n",
    "    \n",
    "    # Initialize the smallest number with the first element of the list\n",
    "    smallest = lst[0]\n",
    "    \n",
    "    # Iterate over the elements in the list starting from the second element\n",
    "    for element in lst[1:]:\n",
    "        # Update the smallest number if a smaller element is found\n",
    "        if element < smallest:\n",
    "            smallest = element\n",
    "    \n",
    "    return smallest\n",
    "\n",
    "\n",
    "# Test the function\n",
    "numbers = [5, 2, 8, 1, 9, 3]\n",
    "result = find_smallest_number(numbers)\n",
    "print(\"Smallest number:\", result)\n"
   ]
  },
  {
   "cell_type": "markdown",
   "metadata": {},
   "source": [
    "4. Write a Python program to find largest number in a list?"
   ]
  },
  {
   "cell_type": "code",
   "execution_count": 17,
   "metadata": {},
   "outputs": [
    {
     "name": "stdout",
     "output_type": "stream",
     "text": [
      "Largest number: 9\n"
     ]
    }
   ],
   "source": [
    "def find_largest_number(lst):\n",
    "    # Check if the list is empty\n",
    "    if not lst:\n",
    "        return None\n",
    "    \n",
    "    # Initialize the largest number with the first element of the list\n",
    "    largest = lst[0]\n",
    "    \n",
    "    # Iterate over the elements in the list starting from the second element\n",
    "    for element in lst[1:]:\n",
    "        # Update the largest number if a larger element is found\n",
    "        if element > largest:\n",
    "            largest = element\n",
    "    \n",
    "    return largest\n",
    "\n",
    "\n",
    "# Test the function\n",
    "numbers = [5, 2, 8, 1, 9, 3]\n",
    "result = find_largest_number(numbers)\n",
    "print(\"Largest number:\", result)\n"
   ]
  },
  {
   "cell_type": "markdown",
   "metadata": {},
   "source": [
    "5. Write a Python program to find second largest number in a list?"
   ]
  },
  {
   "cell_type": "code",
   "execution_count": 18,
   "metadata": {},
   "outputs": [
    {
     "name": "stdout",
     "output_type": "stream",
     "text": [
      "Second largest number: 8\n"
     ]
    }
   ],
   "source": [
    "def find_second_largest_number(lst):\n",
    "    # Check if the list has at least two elements\n",
    "    if len(lst) < 2:\n",
    "        return None\n",
    "    \n",
    "    # Initialize the largest and second largest variables\n",
    "    largest = lst[0]\n",
    "    second_largest = lst[1] if lst[1] < largest else largest\n",
    "    \n",
    "    # Iterate over the elements in the list starting from the third element\n",
    "    for element in lst[2:]:\n",
    "        # Update the largest and second largest variables accordingly\n",
    "        if element > largest:\n",
    "            second_largest = largest\n",
    "            largest = element\n",
    "        elif element > second_largest:\n",
    "            second_largest = element\n",
    "    \n",
    "    return second_largest\n",
    "\n",
    "\n",
    "# Test the function\n",
    "numbers = [5, 2, 8, 1, 9, 3]\n",
    "result = find_second_largest_number(numbers)\n",
    "print(\"Second largest number:\", result)\n"
   ]
  },
  {
   "cell_type": "markdown",
   "metadata": {},
   "source": [
    "6. Write a Python program to find N largest elements from a list?"
   ]
  },
  {
   "cell_type": "code",
   "execution_count": 19,
   "metadata": {},
   "outputs": [
    {
     "name": "stdout",
     "output_type": "stream",
     "text": [
      "3 largest elements: [9, 8, 5]\n"
     ]
    }
   ],
   "source": [
    "def find_n_largest_elements(lst, n):\n",
    "    # Check if the list has enough elements\n",
    "    if len(lst) < n:\n",
    "        return None\n",
    "    \n",
    "    # Sort the list in descending order\n",
    "    sorted_lst = sorted(lst, reverse=True)\n",
    "    \n",
    "    # Return the first n elements from the sorted list\n",
    "    return sorted_lst[:n]\n",
    "\n",
    "\n",
    "# Test the function\n",
    "numbers = [5, 2, 8, 1, 9, 3]\n",
    "n = 3\n",
    "result = find_n_largest_elements(numbers, n)\n",
    "print(f\"{n} largest elements:\", result)\n"
   ]
  },
  {
   "cell_type": "markdown",
   "metadata": {},
   "source": [
    "7. Write a Python program to print even numbers in a list?"
   ]
  },
  {
   "cell_type": "code",
   "execution_count": 20,
   "metadata": {},
   "outputs": [
    {
     "name": "stdout",
     "output_type": "stream",
     "text": [
      "Even numbers:\n",
      "2\n",
      "4\n",
      "6\n",
      "8\n",
      "10\n"
     ]
    }
   ],
   "source": [
    "def print_even_numbers(lst):\n",
    "    # Iterate over the elements in the list\n",
    "    for element in lst:\n",
    "        # Check if the element is even\n",
    "        if element % 2 == 0:\n",
    "            print(element)\n",
    "\n",
    "\n",
    "# Test the function\n",
    "numbers = [1, 2, 3, 4, 5, 6, 7, 8, 9, 10]\n",
    "print(\"Even numbers:\")\n",
    "print_even_numbers(numbers)\n"
   ]
  },
  {
   "cell_type": "markdown",
   "metadata": {},
   "source": [
    "8. Write a Python program to print odd numbers in a List?"
   ]
  },
  {
   "cell_type": "code",
   "execution_count": 21,
   "metadata": {},
   "outputs": [
    {
     "name": "stdout",
     "output_type": "stream",
     "text": [
      "Odd numbers:\n",
      "1\n",
      "3\n",
      "5\n",
      "7\n",
      "9\n"
     ]
    }
   ],
   "source": [
    "def print_odd_numbers(lst):\n",
    "    # Iterate over the elements in the list\n",
    "    for element in lst:\n",
    "        # Check if the element is odd\n",
    "        if element % 2 != 0:\n",
    "            print(element)\n",
    "\n",
    "\n",
    "# Test the function\n",
    "numbers = [1, 2, 3, 4, 5, 6, 7, 8, 9, 10]\n",
    "print(\"Odd numbers:\")\n",
    "print_odd_numbers(numbers)\n"
   ]
  },
  {
   "cell_type": "markdown",
   "metadata": {},
   "source": [
    "9. Write a Python program to Remove empty List from List?"
   ]
  },
  {
   "cell_type": "code",
   "execution_count": 22,
   "metadata": {},
   "outputs": [
    {
     "name": "stdout",
     "output_type": "stream",
     "text": [
      "List after removing empty lists: [1, 3, 6, 7, 9]\n"
     ]
    }
   ],
   "source": [
    "def remove_empty_lists(lst):\n",
    "    # Use list comprehension to create a new list without empty lists\n",
    "    new_lst = [sublist for sublist in lst if sublist]\n",
    "\n",
    "    return new_lst\n",
    "\n",
    "\n",
    "# Test the function\n",
    "my_list = [1, [], 3, [], [], 6, 7, [], 9]\n",
    "result = remove_empty_lists(my_list)\n",
    "print(\"List after removing empty lists:\", result)\n"
   ]
  },
  {
   "cell_type": "markdown",
   "metadata": {},
   "source": [
    "10. Write a Python program to Cloning or Copying a list?"
   ]
  },
  {
   "cell_type": "code",
   "execution_count": 23,
   "metadata": {},
   "outputs": [
    {
     "name": "stdout",
     "output_type": "stream",
     "text": [
      "Cloned List: [1, 2, 3, 4, 5]\n"
     ]
    }
   ],
   "source": [
    "def clone_list(lst):\n",
    "    # Use list slicing to create a new list with all elements from the original list\n",
    "    new_lst = lst[:]\n",
    "\n",
    "    return new_lst\n",
    "\n",
    "\n",
    "# Test the function\n",
    "original_list = [1, 2, 3, 4, 5]\n",
    "cloned_list = clone_list(original_list)\n",
    "print(\"Cloned List:\", cloned_list)\n"
   ]
  },
  {
   "cell_type": "markdown",
   "metadata": {},
   "source": [
    "11. Write a Python program to Count occurrences of an element in a list?"
   ]
  },
  {
   "cell_type": "code",
   "execution_count": 24,
   "metadata": {},
   "outputs": [
    {
     "name": "stdout",
     "output_type": "stream",
     "text": [
      "Occurrences of 2 : 4\n"
     ]
    }
   ],
   "source": [
    "def count_occurrences(lst, element):\n",
    "    count = 0\n",
    "\n",
    "    # Iterate over the elements in the list\n",
    "    for item in lst:\n",
    "        # Check if the element matches the item\n",
    "        if item == element:\n",
    "            count += 1\n",
    "\n",
    "    return count\n",
    "\n",
    "\n",
    "# Test the function\n",
    "my_list = [1, 2, 3, 4, 2, 2, 5, 6, 2]\n",
    "element_to_count = 2\n",
    "result = count_occurrences(my_list, element_to_count)\n",
    "print(\"Occurrences of\", element_to_count, \":\", result)\n"
   ]
  }
 ],
 "metadata": {
  "kernelspec": {
   "display_name": "Python 3",
   "language": "python",
   "name": "python3"
  },
  "language_info": {
   "codemirror_mode": {
    "name": "ipython",
    "version": 3
   },
   "file_extension": ".py",
   "mimetype": "text/x-python",
   "name": "python",
   "nbconvert_exporter": "python",
   "pygments_lexer": "ipython3",
   "version": "3.11.2"
  },
  "orig_nbformat": 4
 },
 "nbformat": 4,
 "nbformat_minor": 2
}
